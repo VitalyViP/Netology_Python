{
 "cells": [
  {
   "cell_type": "code",
   "execution_count": null,
   "metadata": {},
   "outputs": [],
   "source": []
  },
  {
   "cell_type": "code",
   "execution_count": 3,
   "metadata": {},
   "outputs": [
    {
     "name": "stdout",
     "output_type": "stream",
     "text": [
      "Результат: t\n"
     ]
    }
   ],
   "source": [
    "#Задание 1\n",
    "word = 'Testing'\n",
    "n = len(word)\n",
    "if n%2 == 0:\n",
    "    result = word[n//2 - 1] + word[n//2]\n",
    "else:\n",
    "    result = word[n//2]\n",
    "print('Результат:',result)"
   ]
  },
  {
   "cell_type": "code",
   "execution_count": 1,
   "metadata": {},
   "outputs": [
    {
     "name": "stdout",
     "output_type": "stream",
     "text": [
      "{98, 35, 15, 213, 54, 119}\n"
     ]
    }
   ],
   "source": [
    "#Задание 2\n",
    "ids = {'user1': [213, 213, 213, 15, 213],\n",
    "'user2': [54, 54, 119, 119, 119],\n",
    "'user3': [213, 98, 98, 35]}\n",
    "\n",
    "result = set() # Создаем множество для хранения уникальных геометок\n",
    "for i in ids.values():\n",
    "    result.update(i) #Добавление геометок от каждого пользователя в множество\n",
    "\n",
    "print (result)"
   ]
  },
  {
   "cell_type": "code",
   "execution_count": 2,
   "metadata": {},
   "outputs": [
    {
     "name": "stdout",
     "output_type": "stream",
     "text": [
      "Поисковых запросов, содержащих 3 слов(а): 57.14 %\n",
      "Поисковых запросов, содержащих 2 слов(а): 42.86 %\n"
     ]
    }
   ],
   "source": [
    "#Задание 3\n",
    "queries = [\n",
    "    'смотреть сериалы онлайн',\n",
    "    'новости спорта',\n",
    "    'афиша кино',\n",
    "    'курс доллара',\n",
    "    'сериалы этим летом',\n",
    "    'курс по питону',\n",
    "    'сериалы про спорт'\n",
    "]\n",
    "\n",
    "result = [] #Создаем массив для хранения количества слов в запросах\n",
    "for i in queries:\n",
    "    result.append(len(i.split())) #Считаем и складываем количество слов в запросах в лист\n",
    "share = {} #Создаем словарь для подсчета общего количества\n",
    "for i in result:\n",
    "    if i not in share: #Проверяем имеется ли данное количество запросов в словаре\n",
    "        share[i] = 0\n",
    "    share[i] += 1 # счетчик количества запросов\n",
    "\n",
    "for i in share:\n",
    "    print(f'Поисковых запросов, содержащих {i} слов(а): {100*share[i]/len(result):.2f} %')"
   ]
  },
  {
   "cell_type": "code",
   "execution_count": null,
   "metadata": {},
   "outputs": [],
   "source": []
  }
 ],
 "metadata": {
  "kernelspec": {
   "display_name": "base",
   "language": "python",
   "name": "python3"
  },
  "language_info": {
   "codemirror_mode": {
    "name": "ipython",
    "version": 3
   },
   "file_extension": ".py",
   "mimetype": "text/x-python",
   "name": "python",
   "nbconvert_exporter": "python",
   "pygments_lexer": "ipython3",
   "version": "3.9.13"
  },
  "orig_nbformat": 4
 },
 "nbformat": 4,
 "nbformat_minor": 2
}
