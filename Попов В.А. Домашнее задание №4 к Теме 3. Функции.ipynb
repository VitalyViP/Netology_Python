{
 "cells": [
  {
   "cell_type": "code",
   "execution_count": 55,
   "metadata": {},
   "outputs": [
    {
     "name": "stdout",
     "output_type": "stream",
     "text": [
      "Владелец документа: Аристарх Павлов\n",
      "Владелец документа: владелец не найден\n",
      "Документ хранится на полке: 2\n",
      "Документ не найден\n",
      "Программа завершена!\n"
     ]
    }
   ],
   "source": [
    "#Задание 1 и 2. \n",
    "#1. перечень всех документов*\n",
    "documents =[\n",
    "{'type':'passport','number':'2207 876234','name':'Василий Гупкин'},\n",
    "{'type':'invoice','number':'11-2','name':'Геннадий Покемонов'},\n",
    "{'type':'insurance','number':'10006','name':'Аристарх Павлов'}\n",
    "]\n",
    "#2. перечень полок, на которых хранятся документы (если документ есть в documents он обязательно должен быть и в directories)*\n",
    "directories = {\n",
    "'1': ['2207 876234','11-2'],\n",
    "'2': ['10006'],\n",
    "'3':[]\n",
    "}\n",
    "\n",
    "def author(numbers):\n",
    "  break_marker = False\n",
    "  for dic in documents:\n",
    "   if \"number\" in dic.keys() and dic[\"number\"] == numbers:\n",
    "    print('Владелец документа:',dic[\"name\"])\n",
    "    break_marker = True            \n",
    "  if not break_marker:\n",
    "    print(\"Владелец документа: владелец не найден\")\n",
    "\n",
    "def shelf(numbers):\n",
    "  break_marker = False\n",
    "  for shelf_number in directories.items():\n",
    "    for doc_numbers in shelf_number[1]:\n",
    "      if doc_numbers == numbers:\n",
    "        print('Документ хранится на полке:', shelf_number[0])\n",
    "        break_marker = True\n",
    "        break\n",
    "  if not break_marker:\n",
    "    print('Документ не найден')\n",
    "\n",
    "while True:\n",
    "  cmd = input('Введите команду: p - узнать владельца документа по его номеру, s - по номеру документа узнать, на какой полке документ хранится, q - завершит программу')\n",
    "  if cmd ==\"p\":\n",
    "      author(input(\"Введите номер документа:\"))\n",
    "                      \n",
    "  elif cmd ==\"s\":\n",
    "     shelf(input('Введите номер документа:'))\n",
    "     \n",
    "  elif cmd == \"q\":\n",
    "     print(\"Программа завершена!\")\n",
    "     break  \n",
    "     \n",
    "  else:   \n",
    "     print (\"Неправильная команда\")\n",
    "     \n",
    "\n"
   ]
  }
 ],
 "metadata": {
  "kernelspec": {
   "display_name": "base",
   "language": "python",
   "name": "python3"
  },
  "language_info": {
   "codemirror_mode": {
    "name": "ipython",
    "version": 3
   },
   "file_extension": ".py",
   "mimetype": "text/x-python",
   "name": "python",
   "nbconvert_exporter": "python",
   "pygments_lexer": "ipython3",
   "version": "3.9.13"
  },
  "orig_nbformat": 4
 },
 "nbformat": 4,
 "nbformat_minor": 2
}
