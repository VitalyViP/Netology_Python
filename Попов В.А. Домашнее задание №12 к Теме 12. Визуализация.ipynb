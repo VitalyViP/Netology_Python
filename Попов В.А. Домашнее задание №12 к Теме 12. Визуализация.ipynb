{
 "cells": [
  {
   "cell_type": "code",
   "execution_count": 22,
   "metadata": {},
   "outputs": [
    {
     "name": "stdout",
     "output_type": "stream",
     "text": [
      "Экспериментальная вероятность выигрыша в лотерею '777' методом Монте-Карло: 0.203873\n",
      "Общие расходы составили: 1000000 рублей\n",
      "Общий выигрыш составил: 809286 рублей\n"
     ]
    }
   ],
   "source": [
    "import random\n",
    "\n",
    "def monte_carlo_probability(num_simulations):\n",
    "    count_winning_numbers = 0\n",
    "    total_prize = 0\n",
    "    \n",
    "    for _ in range(num_simulations):\n",
    "        player_number = random.randint(0, 999)\n",
    "\n",
    "        # проверка выпавших чисел и подсчет выигрышей\n",
    "        if player_number == 777 or player_number == 999 or player_number == 555 or player_number == 333 or player_number == 111:\n",
    "            count_winning_numbers += 1\n",
    "        elif player_number % 100 == 77 or player_number % 10 == 7 or player_number % 100 == 0 or player_number % 10 == 0:\n",
    "            count_winning_numbers += 1\n",
    "        # расчет суммы выигрыша\n",
    "        if player_number == 777:\n",
    "            total_prize += 200\n",
    "        elif player_number == 999:\n",
    "            total_prize += 100\n",
    "        elif player_number == 555:\n",
    "            total_prize += 50\n",
    "        elif player_number == 333:\n",
    "            total_prize += 15\n",
    "        elif player_number == 111:\n",
    "            total_prize += 10\n",
    "        elif player_number % 100 == 77:\n",
    "            total_prize += 5\n",
    "        elif player_number % 10 == 7:\n",
    "            total_prize += 3\n",
    "        elif player_number % 100 == 0:\n",
    "            total_prize += 2\n",
    "        elif player_number % 10 == 0:\n",
    "            total_prize += 1\n",
    "\n",
    "    probability = count_winning_numbers / num_simulations  # расчет вероятности\n",
    "\n",
    "    return probability, total_prize\n",
    "simulations = 1000000  # количество симуляций\n",
    "result_probability, total_prize = monte_carlo_probability(simulations)\n",
    "print(\"Экспериментальная вероятность выигрыша в лотерею '777' методом Монте-Карло:\", result_probability)\n",
    "print('Общие расходы составили:', simulations, 'рублей')\n",
    "print('Общий выигрыш составил:', total_prize, 'рублей')\n",
    " "
   ]
  }
 ],
 "metadata": {
  "kernelspec": {
   "display_name": "base",
   "language": "python",
   "name": "python3"
  },
  "language_info": {
   "codemirror_mode": {
    "name": "ipython",
    "version": 3
   },
   "file_extension": ".py",
   "mimetype": "text/x-python",
   "name": "python",
   "nbconvert_exporter": "python",
   "pygments_lexer": "ipython3",
   "version": "3.9.13"
  },
  "orig_nbformat": 4
 },
 "nbformat": 4,
 "nbformat_minor": 2
}
