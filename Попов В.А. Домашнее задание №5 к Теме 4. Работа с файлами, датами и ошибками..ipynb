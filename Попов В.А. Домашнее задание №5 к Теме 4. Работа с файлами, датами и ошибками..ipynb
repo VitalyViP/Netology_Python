{
 "cells": [
  {
   "cell_type": "code",
   "execution_count": 26,
   "metadata": {},
   "outputs": [
    {
     "name": "stdout",
     "output_type": "stream",
     "text": [
      "user_id category\n",
      "1840e0b9d4 Продукты\n",
      "4e4f90fcfb Электроника\n"
     ]
    }
   ],
   "source": [
    "#Задание 1\n",
    "import json\n",
    "f=open('purchase_log.txt')\n",
    "dic={}\n",
    "for i, line in enumerate(f):\n",
    "    line=line.strip()\n",
    "    dic=json.loads(line)\n",
    "    for item in dic.items():\n",
    "        key=dic['user_id']\n",
    "        value=dic['category']\n",
    "    if i>2: break    \n",
    "    print(key,value)\n",
    "    \n",
    "    "
   ]
  },
  {
   "cell_type": "code",
   "execution_count": 27,
   "metadata": {},
   "outputs": [
    {
     "data": {
      "text/plain": [
       "(datetime.datetime(2002, 10, 2, 0, 0),\n",
       " datetime.datetime(2013, 10, 11, 0, 0),\n",
       " datetime.datetime(1977, 8, 18, 0, 0))"
      ]
     },
     "execution_count": 27,
     "metadata": {},
     "output_type": "execute_result"
    }
   ],
   "source": [
    "#Задание 2\n",
    "# The Moscow Times - Wednesday, October 2, 2002\n",
    "# The Guardian - Friday, 11.10.13\n",
    "# Daily News - Thursday, 18 August 1977\n",
    "from datetime import datetime\n",
    "dt_TMT = datetime.strptime('Wednesday, October 2, 2002', '%A, %B %d, %Y')\n",
    "dt_TG = datetime.strptime('Friday, 11.10.13', '%A, %d.%m.%y')\n",
    "dt_DN = datetime.strptime('Thursday, 18 August 1977', '%A, %d %B %Y')\n",
    "dt_TMT,dt_TG,dt_DN"
   ]
  }
 ],
 "metadata": {
  "kernelspec": {
   "display_name": "base",
   "language": "python",
   "name": "python3"
  },
  "language_info": {
   "codemirror_mode": {
    "name": "ipython",
    "version": 3
   },
   "file_extension": ".py",
   "mimetype": "text/x-python",
   "name": "python",
   "nbconvert_exporter": "python",
   "pygments_lexer": "ipython3",
   "version": "3.9.13"
  },
  "orig_nbformat": 4
 },
 "nbformat": 4,
 "nbformat_minor": 2
}
