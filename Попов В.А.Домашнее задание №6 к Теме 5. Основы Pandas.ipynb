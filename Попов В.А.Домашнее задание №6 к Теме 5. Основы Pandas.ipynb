{
 "cells": [
  {
   "cell_type": "code",
   "execution_count": 31,
   "metadata": {},
   "outputs": [
    {
     "data": {
      "text/plain": [
       "movieId  title              \n",
       "356      Forrest Gump (1994)    329\n",
       "Name: movieId, dtype: int64"
      ]
     },
     "execution_count": 31,
     "metadata": {},
     "output_type": "execute_result"
    }
   ],
   "source": [
    "# Задание1\n",
    "import pandas as pd\n",
    "df_movies=pd.read_csv('movies.csv', usecols=['movieId','title'])\n",
    "df_ratings=pd.read_csv(\"ratings.csv\", usecols=['movieId','rating'])\n",
    "df_joined=df_ratings.merge(df_movies, on='movieId', how='left')\n",
    "df_joined[df_joined['rating']==5]\n",
    "df_counts=df_joined.groupby(['movieId','title'])['movieId'].count().sort_values(ascending=False)\n",
    "df_counts.head(1)"
   ]
  },
  {
   "cell_type": "code",
   "execution_count": 32,
   "metadata": {},
   "outputs": [
    {
     "data": {
      "text/plain": [
       "240481.0"
      ]
     },
     "execution_count": 32,
     "metadata": {},
     "output_type": "execute_result"
    }
   ],
   "source": [
    "# Задание2\n",
    "import pandas as pd\n",
    "df_power=pd.read_csv('power.csv')\n",
    "df_baltic = df_power[df_power['country'].isin(['Latvia','Lithuania','Estonia'])]\n",
    "df_cat=df_baltic[df_baltic['category'].isin([4,12,21])]\n",
    "df_cat_year=df_cat[df_cat['year'].between(2005,2010) & df_cat['quantity']>0]\n",
    "df_cat_year['quantity'].sum()\n"
   ]
  }
 ],
 "metadata": {
  "kernelspec": {
   "display_name": "base",
   "language": "python",
   "name": "python3"
  },
  "language_info": {
   "codemirror_mode": {
    "name": "ipython",
    "version": 3
   },
   "file_extension": ".py",
   "mimetype": "text/x-python",
   "name": "python",
   "nbconvert_exporter": "python",
   "pygments_lexer": "ipython3",
   "version": "3.9.13"
  },
  "orig_nbformat": 4
 },
 "nbformat": 4,
 "nbformat_minor": 2
}
