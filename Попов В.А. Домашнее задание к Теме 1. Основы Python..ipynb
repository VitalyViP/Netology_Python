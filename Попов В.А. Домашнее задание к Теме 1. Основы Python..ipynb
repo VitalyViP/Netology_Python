{
 "cells": [
  {
   "cell_type": "code",
   "execution_count": null,
   "metadata": {},
   "outputs": [
    {
     "name": "stdout",
     "output_type": "stream",
     "text": [
      "Результат: Високосный год\n"
     ]
    }
   ],
   "source": [
    "\n",
    "# Задание №1\n",
    "year = 2024\n",
    "if year%4 == 0:\n",
    "    result = 'Високосный год'\n",
    "else:\n",
    "    result = 'Обычный год'\n",
    "print('Результат:',result)\n"
   ]
  },
  {
   "cell_type": "code",
   "execution_count": null,
   "metadata": {},
   "outputs": [
    {
     "name": "stdout",
     "output_type": "stream",
     "text": [
      "Результат: Несчастливый билет\n"
     ]
    }
   ],
   "source": [
    "# Задание №2 (Вариант 1)\n",
    "number = 123456\n",
    "a = number//1000\n",
    "b = number%1000\n",
    "result_a = 0\n",
    "result_b = 0\n",
    "while a > 0:\n",
    "    digit = a % 10\n",
    "    result_a = result_a + digit\n",
    "    a = a // 10\n",
    "\n",
    "    digit = b % 10\n",
    "    result_b = result_b + digit\n",
    "    b = b // 10\n",
    "if result_a == result_b:\n",
    "    print('Результат: Счастливый билет')\n",
    "else:\n",
    "    print('Результат: Несчастливый билет')\n"
   ]
  },
  {
   "cell_type": "code",
   "execution_count": null,
   "metadata": {},
   "outputs": [
    {
     "name": "stdout",
     "output_type": "stream",
     "text": [
      "Результат: Счастливый билет\n"
     ]
    }
   ],
   "source": [
    "# Задание №2 (Вариант 2)\n",
    "number = '121022'\n",
    "result_a = 0\n",
    "result_b = 0\n",
    "for i in range(6):\n",
    "    if i < 3:\n",
    "        result_a = result_a + int(number[i])\n",
    "    else:\n",
    "        result_b = result_b + int(number[i])\n",
    "if result_a == result_b:\n",
    "    print('Результат: Счастливый билет')\n",
    "else:\n",
    "    print('Результат: Несчастливый билет')\n"
   ]
  }
 ],
 "metadata": {
  "language_info": {
   "name": "python"
  },
  "orig_nbformat": 4
 },
 "nbformat": 4,
 "nbformat_minor": 2
}
